{
 "cells": [
  {
   "cell_type": "code",
   "execution_count": 16,
   "metadata": {},
   "outputs": [],
   "source": [
    "import numpy as np\n",
    "from cryoPy import *"
   ]
  },
  {
   "cell_type": "markdown",
   "metadata": {},
   "source": [
    "Demonstrate and test the Geo.coords_trans function fos lat/lon pairs, vectors, and 2D arrays."
   ]
  },
  {
   "cell_type": "code",
   "execution_count": 17,
   "metadata": {},
   "outputs": [
    {
     "name": "stdout",
     "output_type": "stream",
     "text": [
      "[2082760.10854291]\n",
      "[0.]\n",
      "[2082760.10854291 2082760.10854291]\n",
      "[0. 0.]\n",
      "[[2082760.10854291 1971339.51584507]\n",
      " [1860214.79558772 1749368.46862384]]\n",
      "[[0. 0.]\n",
      " [0. 0.]]\n"
     ]
    }
   ],
   "source": [
    "## Pairs\n",
    "tgt_Lat, tgt_Lon = Geo.coords_trans(4326, 3031, [-71], [0])\n",
    "print(tgt_Lat)\n",
    "print(tgt_Lon)\n",
    "\n",
    "## Vectors\n",
    "lat = np.array([-71, -71])\n",
    "lon = np.array([0, 0])\n",
    "tgt_Lat, tgt_Lon = Geo.coords_trans(4326, 3031, lat, lon)\n",
    "print(tgt_Lat)\n",
    "print(tgt_Lon)\n",
    "\n",
    "## 2D array\n",
    "lat = np.array([[-71, -72], [-73, -74]])\n",
    "lon = np.array([[0, 0], [0, 0]])\n",
    "tgt_Lat, tgt_Lon = Geo.coords_trans(4326, 3031, lat, lon)\n",
    "print(tgt_Lat)\n",
    "print(tgt_Lon)\n",
    "\n"
   ]
  },
  {
   "cell_type": "code",
   "execution_count": null,
   "metadata": {},
   "outputs": [],
   "source": []
  }
 ],
 "metadata": {
  "kernelspec": {
   "display_name": "Python 3",
   "language": "python",
   "name": "python3"
  },
  "language_info": {
   "codemirror_mode": {
    "name": "ipython",
    "version": 3
   },
   "file_extension": ".py",
   "mimetype": "text/x-python",
   "name": "python",
   "nbconvert_exporter": "python",
   "pygments_lexer": "ipython3",
   "version": "3.7.0"
  }
 },
 "nbformat": 4,
 "nbformat_minor": 2
}
